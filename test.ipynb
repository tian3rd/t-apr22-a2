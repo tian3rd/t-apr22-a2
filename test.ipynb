{
 "cells": [
  {
   "cell_type": "code",
   "execution_count": 658,
   "metadata": {},
   "outputs": [],
   "source": [
    "from constants import *\n",
    "class Tile():\n",
    "    def is_blocking(self) -> bool:\n",
    "        return False\n",
    "\n",
    "    def damage(self) -> int:\n",
    "        return 0\n",
    "\n",
    "    def get_id(self) -> str:\n",
    "        return ABSTRACT_TILE\n",
    "\n",
    "    def __str__(self) -> str:\n",
    "        return self.get_id()\n",
    "\n",
    "    def __repr__(self) -> str:\n",
    "        return self.__class__.__name__ + \"()\""
   ]
  },
  {
   "cell_type": "code",
   "execution_count": 659,
   "metadata": {},
   "outputs": [
    {
     "data": {
      "text/plain": [
       "False"
      ]
     },
     "execution_count": 659,
     "metadata": {},
     "output_type": "execute_result"
    }
   ],
   "source": [
    "t = Tile()\n",
    "t.is_blocking()"
   ]
  },
  {
   "cell_type": "code",
   "execution_count": 660,
   "metadata": {},
   "outputs": [
    {
     "data": {
      "text/plain": [
       "0"
      ]
     },
     "execution_count": 660,
     "metadata": {},
     "output_type": "execute_result"
    }
   ],
   "source": [
    "t.damage()"
   ]
  },
  {
   "cell_type": "code",
   "execution_count": 661,
   "metadata": {},
   "outputs": [
    {
     "data": {
      "text/plain": [
       "'AT'"
      ]
     },
     "execution_count": 661,
     "metadata": {},
     "output_type": "execute_result"
    }
   ],
   "source": [
    "t.get_id()"
   ]
  },
  {
   "cell_type": "code",
   "execution_count": 662,
   "metadata": {},
   "outputs": [
    {
     "data": {
      "text/plain": [
       "'AT'"
      ]
     },
     "execution_count": 662,
     "metadata": {},
     "output_type": "execute_result"
    }
   ],
   "source": [
    "str(t)"
   ]
  },
  {
   "cell_type": "code",
   "execution_count": 663,
   "metadata": {},
   "outputs": [
    {
     "data": {
      "text/plain": [
       "Tile()"
      ]
     },
     "execution_count": 663,
     "metadata": {},
     "output_type": "execute_result"
    }
   ],
   "source": [
    "t"
   ]
  },
  {
   "cell_type": "code",
   "execution_count": 664,
   "metadata": {},
   "outputs": [],
   "source": [
    "class Wall(Tile):\n",
    "    def is_blocking(self) -> bool:\n",
    "        return True\n",
    "\n",
    "    def get_id(self) -> str:\n",
    "        return WALL"
   ]
  },
  {
   "cell_type": "code",
   "execution_count": 665,
   "metadata": {},
   "outputs": [
    {
     "data": {
      "text/plain": [
       "Wall()"
      ]
     },
     "execution_count": 665,
     "metadata": {},
     "output_type": "execute_result"
    }
   ],
   "source": [
    "wall = Wall()\n",
    "wall"
   ]
  },
  {
   "cell_type": "code",
   "execution_count": 666,
   "metadata": {},
   "outputs": [
    {
     "data": {
      "text/plain": [
       "True"
      ]
     },
     "execution_count": 666,
     "metadata": {},
     "output_type": "execute_result"
    }
   ],
   "source": [
    "wall.is_blocking()"
   ]
  },
  {
   "cell_type": "code",
   "execution_count": 667,
   "metadata": {},
   "outputs": [
    {
     "data": {
      "text/plain": [
       "'#'"
      ]
     },
     "execution_count": 667,
     "metadata": {},
     "output_type": "execute_result"
    }
   ],
   "source": [
    "wall.get_id()"
   ]
  },
  {
   "cell_type": "code",
   "execution_count": 668,
   "metadata": {},
   "outputs": [
    {
     "data": {
      "text/plain": [
       "'#'"
      ]
     },
     "execution_count": 668,
     "metadata": {},
     "output_type": "execute_result"
    }
   ],
   "source": [
    "str(wall)"
   ]
  },
  {
   "cell_type": "code",
   "execution_count": 669,
   "metadata": {},
   "outputs": [],
   "source": [
    "class Entity:\n",
    "    def __init__(self, position: tuple[int, int]) -> None:\n",
    "        self.position = position\n",
    "\n",
    "    def get_position(self) -> tuple[int, int]:\n",
    "        return self.position\n",
    "\n",
    "    def get_name(self) -> str:\n",
    "        return self.__class__.__name__\n",
    "\n",
    "    def get_id(self) -> str:\n",
    "        return 'E'\n",
    "\n",
    "    def __str__(self) -> str:\n",
    "        return self.get_id()\n",
    "\n",
    "    def __repr__(self) -> str:\n",
    "        return self.get_name() + \"(\" + str(self.position) + \")\"\n"
   ]
  },
  {
   "cell_type": "code",
   "execution_count": 670,
   "metadata": {},
   "outputs": [
    {
     "data": {
      "text/plain": [
       "Entity((2, 3))"
      ]
     },
     "execution_count": 670,
     "metadata": {},
     "output_type": "execute_result"
    }
   ],
   "source": [
    "entity = Entity((2, 3))\n",
    "entity"
   ]
  },
  {
   "cell_type": "code",
   "execution_count": 671,
   "metadata": {},
   "outputs": [
    {
     "data": {
      "text/plain": [
       "(2, 3)"
      ]
     },
     "execution_count": 671,
     "metadata": {},
     "output_type": "execute_result"
    }
   ],
   "source": [
    "entity.get_position()"
   ]
  },
  {
   "cell_type": "code",
   "execution_count": 672,
   "metadata": {},
   "outputs": [
    {
     "data": {
      "text/plain": [
       "'Entity'"
      ]
     },
     "execution_count": 672,
     "metadata": {},
     "output_type": "execute_result"
    }
   ],
   "source": [
    "entity.get_name()"
   ]
  },
  {
   "cell_type": "code",
   "execution_count": 673,
   "metadata": {},
   "outputs": [
    {
     "data": {
      "text/plain": [
       "'E'"
      ]
     },
     "execution_count": 673,
     "metadata": {},
     "output_type": "execute_result"
    }
   ],
   "source": [
    "entity.get_id()"
   ]
  },
  {
   "cell_type": "code",
   "execution_count": 674,
   "metadata": {},
   "outputs": [
    {
     "data": {
      "text/plain": [
       "'E'"
      ]
     },
     "execution_count": 674,
     "metadata": {},
     "output_type": "execute_result"
    }
   ],
   "source": [
    "str(entity)"
   ]
  },
  {
   "cell_type": "code",
   "execution_count": 675,
   "metadata": {},
   "outputs": [],
   "source": [
    "class DynamicEntity(Entity):\n",
    "    def __init__(self, position: tuple[int, int]) -> None:\n",
    "        super().__init__(position)\n",
    "\n",
    "    def set_position(self, new_position: tuple[int, int]) -> None:\n",
    "        self.position = new_position\n",
    "\n",
    "    def get_id(self) -> str:\n",
    "        return DYNAMIC_ENTITY"
   ]
  },
  {
   "cell_type": "code",
   "execution_count": 676,
   "metadata": {},
   "outputs": [
    {
     "data": {
      "text/plain": [
       "DynamicEntity((1, 1))"
      ]
     },
     "execution_count": 676,
     "metadata": {},
     "output_type": "execute_result"
    }
   ],
   "source": [
    "dynamic_entity = DynamicEntity((1, 1))\n",
    "dynamic_entity"
   ]
  },
  {
   "cell_type": "code",
   "execution_count": 677,
   "metadata": {},
   "outputs": [
    {
     "data": {
      "text/plain": [
       "(1, 1)"
      ]
     },
     "execution_count": 677,
     "metadata": {},
     "output_type": "execute_result"
    }
   ],
   "source": [
    "dynamic_entity.get_position()"
   ]
  },
  {
   "cell_type": "code",
   "execution_count": 678,
   "metadata": {},
   "outputs": [
    {
     "data": {
      "text/plain": [
       "(2, 3)"
      ]
     },
     "execution_count": 678,
     "metadata": {},
     "output_type": "execute_result"
    }
   ],
   "source": [
    "dynamic_entity.set_position((2, 3))\n",
    "dynamic_entity.get_position()"
   ]
  },
  {
   "cell_type": "code",
   "execution_count": 679,
   "metadata": {},
   "outputs": [
    {
     "data": {
      "text/plain": [
       "'DE'"
      ]
     },
     "execution_count": 679,
     "metadata": {},
     "output_type": "execute_result"
    }
   ],
   "source": [
    "dynamic_entity.get_id()"
   ]
  },
  {
   "cell_type": "code",
   "execution_count": 680,
   "metadata": {},
   "outputs": [
    {
     "data": {
      "text/plain": [
       "DynamicEntity((2, 3))"
      ]
     },
     "execution_count": 680,
     "metadata": {},
     "output_type": "execute_result"
    }
   ],
   "source": [
    "dynamic_entity"
   ]
  },
  {
   "cell_type": "code",
   "execution_count": 681,
   "metadata": {},
   "outputs": [],
   "source": [
    "from typing import Optional\n",
    "\n",
    "class Player(DynamicEntity):\n",
    "    def __init__(self, position: tuple[int, int]) -> None:\n",
    "        super().__init__(position)\n",
    "        self.health = MAX_HEALTH\n",
    "        self.hunger = 0\n",
    "        self.thirst = 0\n",
    "        self.inventory = Inventory()\n",
    "\n",
    "    def get_id(self) -> str:\n",
    "        return PLAYER\n",
    "\n",
    "    def get_hunger(self) -> int:\n",
    "        return self.hunger\n",
    "\n",
    "    def get_thirst(self) -> int:\n",
    "        return self.thirst\n",
    "\n",
    "    def get_health(self) -> int:\n",
    "        return self.health\n",
    "\n",
    "    def change_hunger(self, amount: int) -> None:\n",
    "        self.hunger += amount\n",
    "        if self.hunger < 0:\n",
    "            self.hunger = 0\n",
    "        elif self.hunger > MAX_HUNGER:\n",
    "            self.hunger = MAX_HUNGER\n",
    "\n",
    "    def change_thirst(self, amount: int) -> None:\n",
    "        self.thirst += amount\n",
    "        if self.thirst < 0:\n",
    "            self.thirst = 0\n",
    "        elif self.thirst > MAX_THIRST:\n",
    "            self.thirst = MAX_THIRST\n",
    "\n",
    "    def change_health(self, amount: int) -> None:\n",
    "        self.health += amount\n",
    "        if self.health < 0:\n",
    "            self.health = 0\n",
    "        elif self.health > MAX_HEALTH:\n",
    "            self.health = MAX_HEALTH\n",
    "\n",
    "    def get_inventory(self):\n",
    "        return self.inventory\n",
    "\n",
    "    def add_item(self, item) -> None:\n",
    "        self.inventory.add_item(item)\n",
    "\n",
    "\n",
    "class Item(Entity):\n",
    "    def __init__(self, position: tuple[int, int]) -> None:\n",
    "        super().__init__(position)\n",
    "\n",
    "    def get_id(self) -> str:\n",
    "        return ITEM\n",
    "\n",
    "    def apply(self, player: Player) -> None:\n",
    "        player.add_item(self)\n",
    "\n",
    "\n",
    "class Potion(Item):\n",
    "    def __init__(self, position: tuple[int, int]) -> None:\n",
    "        super().__init__(position)\n",
    "        self.health_change = POTION_AMOUNT\n",
    "\n",
    "    def get_id(self) -> str:\n",
    "        return POTION\n",
    "\n",
    "    def apply(self, player: Player) -> None:\n",
    "        player.change_health(self.health_change)\n",
    "\n",
    "\n",
    "class Coin(Item):\n",
    "    def __init__(self, position: tuple[int, int]) -> None:\n",
    "        super().__init__(position)\n",
    "\n",
    "    def get_id(self) -> str:\n",
    "        return COIN\n",
    "\n",
    "    # def apply(self, player: Player) -> None:\n",
    "    #     player.add_item(self)\n",
    "\n",
    "\n",
    "class Water(Item):\n",
    "    def __init__(self, position: tuple[int, int]) -> None:\n",
    "        super().__init__(position)\n",
    "        self.thirst_change = WATER_AMOUNT\n",
    "\n",
    "    def get_id(self) -> str:\n",
    "        return WATER\n",
    "\n",
    "    def apply(self, player: Player) -> None:\n",
    "        player.change_thirst(self.thirst_change)\n",
    "\n",
    "\n",
    "class Food(Item):\n",
    "    def __init__(self, position: tuple[int, int]) -> None:\n",
    "        super().__init__(position)\n",
    "\n",
    "    def get_id(self) -> str:\n",
    "        return FOOD\n",
    "\n",
    "\n",
    "class Apple(Food):\n",
    "    def __init__(self, position: tuple[int, int]) -> None:\n",
    "        super().__init__(position)\n",
    "        self.hunger_change = APPLE_AMOUNT\n",
    "\n",
    "    def get_id(self) -> str:\n",
    "        return APPLE\n",
    "\n",
    "    def apply(self, player: Player) -> None:\n",
    "        player.change_hunger(self.hunger_change)\n",
    "\n",
    "\n",
    "class Honey(Food):\n",
    "    def __init__(self, position: tuple[int, int]) -> None:\n",
    "        super().__init__(position)\n",
    "        self.hunger_change = HONEY_AMOUNT\n",
    "\n",
    "    def get_id(self) -> str:\n",
    "        return HONEY\n",
    "\n",
    "    def apply(self, player: Player) -> None:\n",
    "        player.change_hunger(self.hunger_change)\n",
    "\n",
    "\n",
    "class Inventory:\n",
    "    def __init__(self, initial_items: Optional[list[Item]] = None) -> None:\n",
    "        self.items = {}\n",
    "        if initial_items is not None:\n",
    "            for item in initial_items:\n",
    "                self.add_item(item)\n",
    "\n",
    "    def add_item(self, item: Item) -> None:\n",
    "        if item.get_name() not in self.items:\n",
    "            self.items[item.get_name()] = [item]\n",
    "        else:\n",
    "            self.items[item.get_name()].append(item)\n",
    "\n",
    "    def get_items(self) -> dict[str, list[Item]]:\n",
    "        return self.items\n",
    "\n",
    "    def remove_item(self, item_name: str) -> Optional[Item]:\n",
    "        if item_name in self.items:\n",
    "            item = self.items[item_name].pop(0)\n",
    "            if len(self.items[item_name]) == 0:\n",
    "                del self.items[item_name]\n",
    "            return item\n",
    "        return None\n",
    "\n",
    "    def __str__(self) -> str:\n",
    "        rtn = \"\"\n",
    "        for item in self.items:\n",
    "            rtn += f\"{item}: {len(self.items[item])}\\n\"\n",
    "        return rtn\n",
    "\n",
    "\n",
    "    def __repr__(self) -> str:\n",
    "        return str(self.items)"
   ]
  },
  {
   "cell_type": "code",
   "execution_count": 682,
   "metadata": {},
   "outputs": [
    {
     "data": {
      "text/plain": [
       "Player((2, 3))"
      ]
     },
     "execution_count": 682,
     "metadata": {},
     "output_type": "execute_result"
    }
   ],
   "source": [
    "player = Player((2, 3))\n",
    "player"
   ]
  },
  {
   "cell_type": "code",
   "execution_count": 683,
   "metadata": {},
   "outputs": [
    {
     "data": {
      "text/plain": [
       "0"
      ]
     },
     "execution_count": 683,
     "metadata": {},
     "output_type": "execute_result"
    }
   ],
   "source": [
    "player.get_thirst()"
   ]
  },
  {
   "cell_type": "code",
   "execution_count": 684,
   "metadata": {},
   "outputs": [
    {
     "data": {
      "text/plain": [
       "0"
      ]
     },
     "execution_count": 684,
     "metadata": {},
     "output_type": "execute_result"
    }
   ],
   "source": [
    "player.get_hunger()"
   ]
  },
  {
   "cell_type": "code",
   "execution_count": 685,
   "metadata": {},
   "outputs": [
    {
     "data": {
      "text/plain": [
       "100"
      ]
     },
     "execution_count": 685,
     "metadata": {},
     "output_type": "execute_result"
    }
   ],
   "source": [
    "player.get_health()"
   ]
  },
  {
   "cell_type": "code",
   "execution_count": 686,
   "metadata": {},
   "outputs": [],
   "source": [
    "player.change_hunger(4)"
   ]
  },
  {
   "cell_type": "code",
   "execution_count": 687,
   "metadata": {},
   "outputs": [],
   "source": [
    "player.change_thirst(3)"
   ]
  },
  {
   "cell_type": "code",
   "execution_count": 688,
   "metadata": {},
   "outputs": [],
   "source": [
    "player.change_health(-34)"
   ]
  },
  {
   "cell_type": "code",
   "execution_count": 689,
   "metadata": {},
   "outputs": [
    {
     "data": {
      "text/plain": [
       "4"
      ]
     },
     "execution_count": 689,
     "metadata": {},
     "output_type": "execute_result"
    }
   ],
   "source": [
    "player.get_hunger()"
   ]
  },
  {
   "cell_type": "code",
   "execution_count": 690,
   "metadata": {},
   "outputs": [
    {
     "data": {
      "text/plain": [
       "3"
      ]
     },
     "execution_count": 690,
     "metadata": {},
     "output_type": "execute_result"
    }
   ],
   "source": [
    "player.get_thirst()"
   ]
  },
  {
   "cell_type": "code",
   "execution_count": 691,
   "metadata": {},
   "outputs": [
    {
     "data": {
      "text/plain": [
       "66"
      ]
     },
     "execution_count": 691,
     "metadata": {},
     "output_type": "execute_result"
    }
   ],
   "source": [
    "player.get_health()"
   ]
  },
  {
   "cell_type": "code",
   "execution_count": 692,
   "metadata": {},
   "outputs": [
    {
     "data": {
      "text/plain": [
       "{}"
      ]
     },
     "execution_count": 692,
     "metadata": {},
     "output_type": "execute_result"
    }
   ],
   "source": [
    "player.get_inventory().get_items()"
   ]
  },
  {
   "cell_type": "code",
   "execution_count": 693,
   "metadata": {},
   "outputs": [],
   "source": [
    "player.add_item(Honey((2, 3)))\n",
    "player.add_item(Honey((4, 4)))\n",
    "player.add_item(Water((1, 1)))"
   ]
  },
  {
   "cell_type": "code",
   "execution_count": 694,
   "metadata": {},
   "outputs": [
    {
     "data": {
      "text/plain": [
       "{'Honey': [Honey((2, 3)), Honey((4, 4))], 'Water': [Water((1, 1))]}"
      ]
     },
     "execution_count": 694,
     "metadata": {},
     "output_type": "execute_result"
    }
   ],
   "source": [
    "player.get_inventory().get_items()"
   ]
  },
  {
   "cell_type": "code",
   "execution_count": 695,
   "metadata": {},
   "outputs": [
    {
     "data": {
      "text/plain": [
       "Player((2, 3))"
      ]
     },
     "execution_count": 695,
     "metadata": {},
     "output_type": "execute_result"
    }
   ],
   "source": [
    "player"
   ]
  },
  {
   "cell_type": "code",
   "execution_count": 696,
   "metadata": {},
   "outputs": [],
   "source": [
    "player = Player((1, 1))\n",
    "potion = Potion((1, 1))\n",
    "player.change_health(-50)"
   ]
  },
  {
   "cell_type": "code",
   "execution_count": 697,
   "metadata": {},
   "outputs": [
    {
     "data": {
      "text/plain": [
       "50"
      ]
     },
     "execution_count": 697,
     "metadata": {},
     "output_type": "execute_result"
    }
   ],
   "source": [
    "player.get_health()"
   ]
  },
  {
   "cell_type": "code",
   "execution_count": 698,
   "metadata": {},
   "outputs": [],
   "source": [
    "potion.apply(player)"
   ]
  },
  {
   "cell_type": "code",
   "execution_count": 699,
   "metadata": {},
   "outputs": [
    {
     "data": {
      "text/plain": [
       "70"
      ]
     },
     "execution_count": 699,
     "metadata": {},
     "output_type": "execute_result"
    }
   ],
   "source": [
    "player.get_health()"
   ]
  },
  {
   "cell_type": "code",
   "execution_count": 700,
   "metadata": {},
   "outputs": [
    {
     "data": {
      "text/plain": [
       "Potion((1, 1))"
      ]
     },
     "execution_count": 700,
     "metadata": {},
     "output_type": "execute_result"
    }
   ],
   "source": [
    "potion"
   ]
  },
  {
   "cell_type": "code",
   "execution_count": 701,
   "metadata": {},
   "outputs": [
    {
     "name": "stdout",
     "output_type": "stream",
     "text": [
      "100 0 0\n"
     ]
    }
   ],
   "source": [
    "player = Player((4, 4))\n",
    "coin = Coin((4, 4))\n",
    "print(player.get_health(), player.get_thirst(), player.get_hunger())"
   ]
  },
  {
   "cell_type": "code",
   "execution_count": 702,
   "metadata": {},
   "outputs": [
    {
     "data": {
      "text/plain": [
       "{}"
      ]
     },
     "execution_count": 702,
     "metadata": {},
     "output_type": "execute_result"
    }
   ],
   "source": [
    "player.get_inventory().get_items()"
   ]
  },
  {
   "cell_type": "code",
   "execution_count": 703,
   "metadata": {},
   "outputs": [
    {
     "name": "stdout",
     "output_type": "stream",
     "text": [
      "100 0 0\n"
     ]
    }
   ],
   "source": [
    "coin.apply(player)\n",
    "print(player.get_health(), player.get_thirst(), player.get_hunger())"
   ]
  },
  {
   "cell_type": "code",
   "execution_count": 704,
   "metadata": {},
   "outputs": [
    {
     "data": {
      "text/plain": [
       "{'Coin': [Coin((4, 4))]}"
      ]
     },
     "execution_count": 704,
     "metadata": {},
     "output_type": "execute_result"
    }
   ],
   "source": [
    "player.get_inventory().get_items()"
   ]
  },
  {
   "cell_type": "code",
   "execution_count": 705,
   "metadata": {},
   "outputs": [
    {
     "data": {
      "text/plain": [
       "8"
      ]
     },
     "execution_count": 705,
     "metadata": {},
     "output_type": "execute_result"
    }
   ],
   "source": [
    "player = Player((1, 1))\n",
    "player.change_thirst(8)\n",
    "player.get_thirst()"
   ]
  },
  {
   "cell_type": "code",
   "execution_count": 706,
   "metadata": {},
   "outputs": [
    {
     "data": {
      "text/plain": [
       "3"
      ]
     },
     "execution_count": 706,
     "metadata": {},
     "output_type": "execute_result"
    }
   ],
   "source": [
    "water = Water((1, 1))\n",
    "water.apply(player)\n",
    "player.get_thirst()"
   ]
  },
  {
   "cell_type": "code",
   "execution_count": 707,
   "metadata": {},
   "outputs": [
    {
     "data": {
      "text/plain": [
       "'W'"
      ]
     },
     "execution_count": 707,
     "metadata": {},
     "output_type": "execute_result"
    }
   ],
   "source": [
    "water.get_id()"
   ]
  },
  {
   "cell_type": "code",
   "execution_count": 708,
   "metadata": {},
   "outputs": [
    {
     "data": {
      "text/plain": [
       "'W'"
      ]
     },
     "execution_count": 708,
     "metadata": {},
     "output_type": "execute_result"
    }
   ],
   "source": [
    "str(water)"
   ]
  },
  {
   "cell_type": "code",
   "execution_count": 709,
   "metadata": {},
   "outputs": [
    {
     "data": {
      "text/plain": [
       "Water((1, 1))"
      ]
     },
     "execution_count": 709,
     "metadata": {},
     "output_type": "execute_result"
    }
   ],
   "source": [
    "water"
   ]
  },
  {
   "cell_type": "code",
   "execution_count": 710,
   "metadata": {},
   "outputs": [
    {
     "data": {
      "text/plain": [
       "7"
      ]
     },
     "execution_count": 710,
     "metadata": {},
     "output_type": "execute_result"
    }
   ],
   "source": [
    "player = Player((1, 1))\n",
    "player.change_hunger(7)\n",
    "apple = Apple((1, 1))\n",
    "honey = Honey((2, 3))\n",
    "player.get_hunger()\n"
   ]
  },
  {
   "cell_type": "code",
   "execution_count": 711,
   "metadata": {},
   "outputs": [
    {
     "data": {
      "text/plain": [
       "6"
      ]
     },
     "execution_count": 711,
     "metadata": {},
     "output_type": "execute_result"
    }
   ],
   "source": [
    "apple.apply(player)\n",
    "player.get_hunger()"
   ]
  },
  {
   "cell_type": "code",
   "execution_count": 712,
   "metadata": {},
   "outputs": [
    {
     "data": {
      "text/plain": [
       "1"
      ]
     },
     "execution_count": 712,
     "metadata": {},
     "output_type": "execute_result"
    }
   ],
   "source": [
    "honey.apply(player)\n",
    "player.get_hunger()"
   ]
  },
  {
   "cell_type": "code",
   "execution_count": 713,
   "metadata": {},
   "outputs": [
    {
     "data": {
      "text/plain": [
       "'AH'"
      ]
     },
     "execution_count": 713,
     "metadata": {},
     "output_type": "execute_result"
    }
   ],
   "source": [
    "apple.get_id() + honey.get_id()"
   ]
  },
  {
   "cell_type": "code",
   "execution_count": 714,
   "metadata": {},
   "outputs": [
    {
     "data": {
      "text/plain": [
       "Honey((2, 3))"
      ]
     },
     "execution_count": 714,
     "metadata": {},
     "output_type": "execute_result"
    }
   ],
   "source": [
    "honey"
   ]
  },
  {
   "cell_type": "code",
   "execution_count": 715,
   "metadata": {},
   "outputs": [
    {
     "data": {
      "text/plain": [
       "Apple((1, 1))"
      ]
     },
     "execution_count": 715,
     "metadata": {},
     "output_type": "execute_result"
    }
   ],
   "source": [
    "apple"
   ]
  },
  {
   "cell_type": "code",
   "execution_count": 716,
   "metadata": {},
   "outputs": [
    {
     "data": {
      "text/plain": [
       "{'Water': [Water((1, 2)), Water((3, 4))], 'Honey': [Honey((2, 3))]}"
      ]
     },
     "execution_count": 716,
     "metadata": {},
     "output_type": "execute_result"
    }
   ],
   "source": [
    "inventory = Inventory([Water((1, 2)), Honey((2, 3)), Water((3, 4))])\n",
    "inventory"
   ]
  },
  {
   "cell_type": "code",
   "execution_count": 717,
   "metadata": {},
   "outputs": [
    {
     "data": {
      "text/plain": [
       "{'Water': [Water((1, 2)), Water((3, 4))], 'Honey': [Honey((2, 3))]}"
      ]
     },
     "execution_count": 717,
     "metadata": {},
     "output_type": "execute_result"
    }
   ],
   "source": [
    "inventory.get_items()"
   ]
  },
  {
   "cell_type": "code",
   "execution_count": 718,
   "metadata": {},
   "outputs": [
    {
     "data": {
      "text/plain": [
       "{'Water': [Water((1, 2)), Water((3, 4))],\n",
       " 'Honey': [Honey((2, 3)), Honey((3, 4))],\n",
       " 'Coin': [Coin((1, 1))]}"
      ]
     },
     "execution_count": 718,
     "metadata": {},
     "output_type": "execute_result"
    }
   ],
   "source": [
    "inventory.add_item(Honey((3, 4)))\n",
    "inventory.add_item(Coin((1, 1)))\n",
    "inventory.get_items()"
   ]
  },
  {
   "cell_type": "code",
   "execution_count": 719,
   "metadata": {},
   "outputs": [
    {
     "data": {
      "text/plain": [
       "Honey((2, 3))"
      ]
     },
     "execution_count": 719,
     "metadata": {},
     "output_type": "execute_result"
    }
   ],
   "source": [
    "inventory.remove_item('Honey')"
   ]
  },
  {
   "cell_type": "code",
   "execution_count": 720,
   "metadata": {},
   "outputs": [
    {
     "data": {
      "text/plain": [
       "{'Water': [Water((1, 2)), Water((3, 4))],\n",
       " 'Honey': [Honey((3, 4))],\n",
       " 'Coin': [Coin((1, 1))]}"
      ]
     },
     "execution_count": 720,
     "metadata": {},
     "output_type": "execute_result"
    }
   ],
   "source": [
    "inventory.get_items()"
   ]
  },
  {
   "cell_type": "code",
   "execution_count": 721,
   "metadata": {},
   "outputs": [
    {
     "data": {
      "text/plain": [
       "Coin((1, 1))"
      ]
     },
     "execution_count": 721,
     "metadata": {},
     "output_type": "execute_result"
    }
   ],
   "source": [
    "inventory.remove_item('Coin')"
   ]
  },
  {
   "cell_type": "code",
   "execution_count": 722,
   "metadata": {},
   "outputs": [
    {
     "data": {
      "text/plain": [
       "{'Water': [Water((1, 2)), Water((3, 4))], 'Honey': [Honey((3, 4))]}"
      ]
     },
     "execution_count": 722,
     "metadata": {},
     "output_type": "execute_result"
    }
   ],
   "source": [
    "inventory.get_items()"
   ]
  },
  {
   "cell_type": "code",
   "execution_count": 723,
   "metadata": {},
   "outputs": [
    {
     "name": "stdout",
     "output_type": "stream",
     "text": [
      "Water: 2\n",
      "Honey: 1\n",
      "\n"
     ]
    }
   ],
   "source": [
    "print(inventory)"
   ]
  },
  {
   "cell_type": "code",
   "execution_count": 724,
   "metadata": {},
   "outputs": [],
   "source": [
    "class Empty(Tile):\n",
    "    def is_blocking(self) -> bool:\n",
    "        return False\n",
    "\n",
    "    def get_id(self) -> str:\n",
    "        return EMPTY\n",
    "\n",
    "\n",
    "class Lava(Tile):\n",
    "    def is_blocking(self) -> bool:\n",
    "        return False\n",
    "\n",
    "    def damage(self) -> int:\n",
    "        return LAVA_DAMAGE\n",
    "\n",
    "    def get_id(self) -> str:\n",
    "        return LAVA\n",
    "\n",
    "\n",
    "class Door(Tile):\n",
    "    def __init__(self, is_blocked: bool = True, id: str = DOOR):\n",
    "        self.is_blocked = is_blocked\n",
    "        self.id = id\n",
    "\n",
    "    def is_blocking(self) -> bool:\n",
    "        return self.is_blocked\n",
    "\n",
    "    def get_id(self) -> str:\n",
    "        return self.id\n",
    "\n",
    "    def unlock(self) -> None:\n",
    "        self.is_blocked = False\n",
    "        self.id = EMPTY"
   ]
  },
  {
   "cell_type": "code",
   "execution_count": 725,
   "metadata": {},
   "outputs": [
    {
     "data": {
      "text/plain": [
       "[Wall(), Empty(), Empty(), Lava(), Lava()]"
      ]
     },
     "execution_count": 725,
     "metadata": {},
     "output_type": "execute_result"
    }
   ],
   "source": [
    "\n",
    "test_dic = {'#': Wall, \"L\": Lava}\n",
    "s = \"#CCLL\"\n",
    "d = []\n",
    "for l in s: \n",
    "    if l in test_dic:\n",
    "        d.append(test_dic[l]())\n",
    "    else:\n",
    "        d.append(Empty())\n",
    "d"
   ]
  },
  {
   "cell_type": "code",
   "execution_count": 726,
   "metadata": {},
   "outputs": [],
   "source": [
    "class Maze:\n",
    "    def __init__(self, dimensions: tuple[int, int]) -> None:\n",
    "        self.dimensions = dimensions\n",
    "        self.maze = []\n",
    "        self.tile_pool = {LAVA: Lava, WALL: Wall, EMPTY: Empty, DOOR: Door}\n",
    "\n",
    "    def get_dimensions(self) -> tuple[int, int]:\n",
    "        return self.dimensions\n",
    "\n",
    "    def add_row(self, row: str) -> None:\n",
    "        assert len(row) == self.dimensions[1] and len(\n",
    "            self.maze) < self.dimensions[0]\n",
    "        real_row = []\n",
    "        for tile in row:\n",
    "            if tile in self.tile_pool:\n",
    "                real_row.append(self.tile_pool[tile]())\n",
    "            else:\n",
    "                real_row.append(self.tile_pool[EMPTY]())\n",
    "        self.maze.append(real_row)\n",
    "\n",
    "    def get_tiles(self) -> list[list[Tile]]:\n",
    "        return self.maze\n",
    "\n",
    "    def unlock_door(self) -> None:\n",
    "        for row in self.maze:\n",
    "            for tile in row:\n",
    "                if isinstance(tile, Door):\n",
    "                    tile.unlock()\n",
    "\n",
    "    def get_tile(self, position: tuple[int, int]) -> Tile:\n",
    "        return self.maze[position[0]][position[1]]\n",
    "\n",
    "    def __str__(self) -> str:\n",
    "        rtn = \"\"\n",
    "        for row in self.maze:\n",
    "            for tile in row:\n",
    "                rtn += str(tile)\n",
    "            rtn += \"\\n\"\n",
    "        return rtn\n",
    "\n",
    "    def __repr__(self) -> str:\n",
    "        return self.__class__.__name__ + f\"({self.dimensions})\""
   ]
  },
  {
   "cell_type": "code",
   "execution_count": null,
   "metadata": {},
   "outputs": [],
   "source": []
  },
  {
   "cell_type": "code",
   "execution_count": 727,
   "metadata": {},
   "outputs": [
    {
     "data": {
      "text/plain": [
       "(5, 5)"
      ]
     },
     "execution_count": 727,
     "metadata": {},
     "output_type": "execute_result"
    }
   ],
   "source": [
    "maze = Maze((5, 5))\n",
    "maze.get_dimensions()"
   ]
  },
  {
   "cell_type": "code",
   "execution_count": 728,
   "metadata": {},
   "outputs": [
    {
     "data": {
      "text/plain": [
       "[]"
      ]
     },
     "execution_count": 728,
     "metadata": {},
     "output_type": "execute_result"
    }
   ],
   "source": [
    "maze.get_tiles()"
   ]
  },
  {
   "cell_type": "code",
   "execution_count": 729,
   "metadata": {},
   "outputs": [
    {
     "data": {
      "text/plain": [
       "''"
      ]
     },
     "execution_count": 729,
     "metadata": {},
     "output_type": "execute_result"
    }
   ],
   "source": [
    "str(maze)"
   ]
  },
  {
   "cell_type": "code",
   "execution_count": 730,
   "metadata": {},
   "outputs": [],
   "source": [
    "maze.add_row(\"#####\")\n",
    "maze.add_row(\"# C D\")\n",
    "maze.add_row(\"# C #\")\n",
    "maze.add_row(\"P C #\")\n",
    "maze.add_row(\"#####\")"
   ]
  },
  {
   "cell_type": "code",
   "execution_count": 731,
   "metadata": {},
   "outputs": [
    {
     "name": "stdout",
     "output_type": "stream",
     "text": [
      "[[Wall(), Wall(), Wall(), Wall(), Wall()],\n",
      " [Wall(), Empty(), Empty(), Empty(), Door()],\n",
      " [Wall(), Empty(), Empty(), Empty(), Wall()],\n",
      " [Empty(), Empty(), Empty(), Empty(), Wall()],\n",
      " [Wall(), Wall(), Wall(), Wall(), Wall()]]\n"
     ]
    }
   ],
   "source": [
    "from pprint import pprint\n",
    "pprint(maze.get_tiles())"
   ]
  },
  {
   "cell_type": "code",
   "execution_count": 732,
   "metadata": {},
   "outputs": [
    {
     "data": {
      "text/plain": [
       "'#####\\n#   D\\n#   #\\n    #\\n#####\\n'"
      ]
     },
     "execution_count": 732,
     "metadata": {},
     "output_type": "execute_result"
    }
   ],
   "source": [
    "str(maze)"
   ]
  },
  {
   "cell_type": "code",
   "execution_count": 733,
   "metadata": {},
   "outputs": [
    {
     "name": "stdout",
     "output_type": "stream",
     "text": [
      "#####\n",
      "#   D\n",
      "#   #\n",
      "    #\n",
      "#####\n",
      "\n"
     ]
    }
   ],
   "source": [
    "print(maze)"
   ]
  },
  {
   "cell_type": "code",
   "execution_count": 734,
   "metadata": {},
   "outputs": [
    {
     "data": {
      "text/plain": [
       "Maze((5, 5))"
      ]
     },
     "execution_count": 734,
     "metadata": {},
     "output_type": "execute_result"
    }
   ],
   "source": [
    "maze"
   ]
  },
  {
   "cell_type": "code",
   "execution_count": 735,
   "metadata": {},
   "outputs": [
    {
     "data": {
      "text/plain": [
       "Empty()"
      ]
     },
     "execution_count": 735,
     "metadata": {},
     "output_type": "execute_result"
    }
   ],
   "source": [
    "maze.get_tile((2, 3))"
   ]
  },
  {
   "cell_type": "code",
   "execution_count": 736,
   "metadata": {},
   "outputs": [
    {
     "name": "stdout",
     "output_type": "stream",
     "text": [
      "#####\n",
      "#    \n",
      "#   #\n",
      "    #\n",
      "#####\n",
      "\n"
     ]
    }
   ],
   "source": [
    "maze.unlock_door()\n",
    "print(maze)"
   ]
  },
  {
   "cell_type": "code",
   "execution_count": 737,
   "metadata": {},
   "outputs": [
    {
     "name": "stdout",
     "output_type": "stream",
     "text": [
      "[[Wall(), Wall(), Wall(), Wall(), Wall()],\n",
      " [Wall(), Empty(), Empty(), Empty(), Door()],\n",
      " [Wall(), Empty(), Empty(), Empty(), Wall()],\n",
      " [Empty(), Empty(), Empty(), Empty(), Wall()],\n",
      " [Wall(), Wall(), Wall(), Wall(), Wall()]]\n"
     ]
    }
   ],
   "source": [
    "pprint(maze.get_tiles())"
   ]
  },
  {
   "cell_type": "code",
   "execution_count": 738,
   "metadata": {},
   "outputs": [],
   "source": [
    "class Level:\n",
    "    def __init__(self, dimenstions: tuple[int, int]) -> None:\n",
    "        self.dimensions = dimenstions\n",
    "        self.maze = Maze(self.dimensions)\n",
    "        self.items = {}\n",
    "        self.item_pool = {'C': Coin, 'M': Potion,\n",
    "                          'W': Water, 'A': Apple, 'H': Honey}\n",
    "        self.player_start_position = None\n",
    "\n",
    "    def get_maze(self) -> Maze:\n",
    "        return self.maze\n",
    "    \n",
    "    def get_dimensions(self) -> tuple[int, int]:\n",
    "        return self.dimensions\n",
    "\n",
    "    def attempt_unlock_door(self) -> None:\n",
    "        all_items = self.get_items()\n",
    "        for item in all_items:\n",
    "            if isinstance(all_items[item], Coin):\n",
    "                return\n",
    "        self.maze.unlock_door()\n",
    "\n",
    "    def add_row(self, row: str) -> None:\n",
    "        self.maze.add_row(row)\n",
    "        row_no = len(self.maze.get_tiles()) - 1\n",
    "        for col_no, element in enumerate(row):\n",
    "            if element in self.item_pool:\n",
    "                self.items[(row_no, col_no)] = self.item_pool[element](\n",
    "                    (row_no, col_no))\n",
    "            if element == PLAYER:\n",
    "                self.add_player_start((row_no, col_no))\n",
    "    \n",
    "    def add_entity(self, position: tuple[int, int], entity_id: str) -> None:\n",
    "        if entity_id in self.item_pool:\n",
    "            self.items[position] = self.item_pool[entity_id](position)\n",
    "\n",
    "    def get_items(self) -> dict[tuple[int, int], Item]:\n",
    "        return self.items\n",
    "\n",
    "    def remove_item(self, position: tuple[int, int]) -> None:\n",
    "        if self.items[position].get_id() in self.item_pool:\n",
    "            del self.items[position]\n",
    "\n",
    "    def add_player_start(self, position: tuple[int, int]) -> None:\n",
    "        self.player_start_position = position\n",
    "\n",
    "    def get_player_start(self) -> Optional[tuple[int, int]]:\n",
    "        return self.player_start_position\n",
    "\n",
    "    def __str__(self) -> str:\n",
    "        rtn = \"Maze:\\n\"\n",
    "        rtn += str(self.maze)\n",
    "        rtn += f\"Items:{self.items}\\n\"\n",
    "        rtn += f\"Player start: {self.get_player_start()}\\n\"\n",
    "        return rtn\n",
    "\n",
    "    def __repr__(self) -> str:\n",
    "        return self.__class__.__name__ + f\"({self.dimensions})\""
   ]
  },
  {
   "cell_type": "code",
   "execution_count": 739,
   "metadata": {},
   "outputs": [
    {
     "data": {
      "text/plain": [
       "Level((5, 5))"
      ]
     },
     "execution_count": 739,
     "metadata": {},
     "output_type": "execute_result"
    }
   ],
   "source": [
    "level = Level((5, 5))\n",
    "level"
   ]
  },
  {
   "cell_type": "code",
   "execution_count": 740,
   "metadata": {},
   "outputs": [
    {
     "data": {
      "text/plain": [
       "Maze((5, 5))"
      ]
     },
     "execution_count": 740,
     "metadata": {},
     "output_type": "execute_result"
    }
   ],
   "source": [
    "level.get_maze()"
   ]
  },
  {
   "cell_type": "code",
   "execution_count": 741,
   "metadata": {},
   "outputs": [
    {
     "data": {
      "text/plain": [
       "[]"
      ]
     },
     "execution_count": 741,
     "metadata": {},
     "output_type": "execute_result"
    }
   ],
   "source": [
    "level.get_maze().get_tiles()"
   ]
  },
  {
   "cell_type": "code",
   "execution_count": 742,
   "metadata": {},
   "outputs": [
    {
     "data": {
      "text/plain": [
       "{}"
      ]
     },
     "execution_count": 742,
     "metadata": {},
     "output_type": "execute_result"
    }
   ],
   "source": [
    "level.get_items()"
   ]
  },
  {
   "cell_type": "code",
   "execution_count": 743,
   "metadata": {},
   "outputs": [],
   "source": [
    "level.get_player_start()"
   ]
  },
  {
   "cell_type": "code",
   "execution_count": 744,
   "metadata": {},
   "outputs": [
    {
     "data": {
      "text/plain": [
       "(5, 5)"
      ]
     },
     "execution_count": 744,
     "metadata": {},
     "output_type": "execute_result"
    }
   ],
   "source": [
    "level.get_dimensions()"
   ]
  },
  {
   "cell_type": "code",
   "execution_count": 745,
   "metadata": {},
   "outputs": [],
   "source": [
    "level.add_row(\"#####\")\n",
    "level.add_row(\"# C D\")\n",
    "level.add_row(\"# C #\")\n",
    "level.add_row(\"P C #\")\n",
    "level.add_row(\"#####\")"
   ]
  },
  {
   "cell_type": "code",
   "execution_count": 746,
   "metadata": {},
   "outputs": [
    {
     "name": "stdout",
     "output_type": "stream",
     "text": [
      "#####\n",
      "#   D\n",
      "#   #\n",
      "    #\n",
      "#####\n",
      "\n"
     ]
    }
   ],
   "source": [
    "print(level.get_maze())"
   ]
  },
  {
   "cell_type": "code",
   "execution_count": 747,
   "metadata": {},
   "outputs": [
    {
     "data": {
      "text/plain": [
       "{(1, 2): Coin((1, 2)), (2, 2): Coin((2, 2)), (3, 2): Coin((3, 2))}"
      ]
     },
     "execution_count": 747,
     "metadata": {},
     "output_type": "execute_result"
    }
   ],
   "source": [
    "level.get_items()"
   ]
  },
  {
   "cell_type": "code",
   "execution_count": 748,
   "metadata": {},
   "outputs": [
    {
     "data": {
      "text/plain": [
       "(3, 0)"
      ]
     },
     "execution_count": 748,
     "metadata": {},
     "output_type": "execute_result"
    }
   ],
   "source": [
    "level.get_player_start()"
   ]
  },
  {
   "cell_type": "code",
   "execution_count": 749,
   "metadata": {},
   "outputs": [],
   "source": [
    "level.add_entity((2, 3), 'M')"
   ]
  },
  {
   "cell_type": "code",
   "execution_count": 750,
   "metadata": {},
   "outputs": [
    {
     "data": {
      "text/plain": [
       "{(1, 2): Coin((1, 2)),\n",
       " (2, 2): Coin((2, 2)),\n",
       " (3, 2): Coin((3, 2)),\n",
       " (2, 3): Potion((2, 3))}"
      ]
     },
     "execution_count": 750,
     "metadata": {},
     "output_type": "execute_result"
    }
   ],
   "source": [
    "level.get_items()"
   ]
  },
  {
   "cell_type": "code",
   "execution_count": 751,
   "metadata": {},
   "outputs": [],
   "source": [
    "level.attempt_unlock_door()"
   ]
  },
  {
   "cell_type": "code",
   "execution_count": 752,
   "metadata": {},
   "outputs": [
    {
     "name": "stdout",
     "output_type": "stream",
     "text": [
      "#####\n",
      "#   D\n",
      "#   #\n",
      "    #\n",
      "#####\n",
      "\n"
     ]
    }
   ],
   "source": [
    "print(level.get_maze())"
   ]
  },
  {
   "cell_type": "code",
   "execution_count": 753,
   "metadata": {},
   "outputs": [
    {
     "data": {
      "text/plain": [
       "{(2, 3): Potion((2, 3))}"
      ]
     },
     "execution_count": 753,
     "metadata": {},
     "output_type": "execute_result"
    }
   ],
   "source": [
    "level.remove_item((1, 2))\n",
    "level.remove_item((2, 2))\n",
    "level.remove_item((3, 2))\n",
    "level.get_items()"
   ]
  },
  {
   "cell_type": "code",
   "execution_count": 754,
   "metadata": {},
   "outputs": [
    {
     "name": "stdout",
     "output_type": "stream",
     "text": [
      "#####\n",
      "#    \n",
      "#   #\n",
      "    #\n",
      "#####\n",
      "\n"
     ]
    }
   ],
   "source": [
    "level.attempt_unlock_door()\n",
    "print(level.get_maze())"
   ]
  },
  {
   "cell_type": "code",
   "execution_count": 755,
   "metadata": {},
   "outputs": [
    {
     "name": "stdout",
     "output_type": "stream",
     "text": [
      "[[Wall(), Wall(), Wall(), Wall(), Wall()],\n",
      " [Wall(), Empty(), Empty(), Empty(), Door()],\n",
      " [Wall(), Empty(), Empty(), Empty(), Wall()],\n",
      " [Empty(), Empty(), Empty(), Empty(), Wall()],\n",
      " [Wall(), Wall(), Wall(), Wall(), Wall()]]\n"
     ]
    }
   ],
   "source": [
    "from pprint import pprint\n",
    "pprint(level.get_maze().get_tiles())"
   ]
  },
  {
   "cell_type": "code",
   "execution_count": 756,
   "metadata": {},
   "outputs": [
    {
     "name": "stdout",
     "output_type": "stream",
     "text": [
      "Maze:\n",
      "#####\n",
      "#    \n",
      "#   #\n",
      "    #\n",
      "#####\n",
      "Items:{(2, 3): Potion((2, 3))}\n",
      "Player start: (3, 0)\n",
      "\n"
     ]
    }
   ],
   "source": [
    "print(level)"
   ]
  }
 ],
 "metadata": {
  "interpreter": {
   "hash": "c30f2af5f468e7f5b45bcc30fca5f4886c90d54777aed916ed5f6294dfb24bf2"
  },
  "kernelspec": {
   "display_name": "Python 3.9.7 ('base')",
   "language": "python",
   "name": "python3"
  },
  "language_info": {
   "codemirror_mode": {
    "name": "ipython",
    "version": 3
   },
   "file_extension": ".py",
   "mimetype": "text/x-python",
   "name": "python",
   "nbconvert_exporter": "python",
   "pygments_lexer": "ipython3",
   "version": "3.9.7"
  },
  "orig_nbformat": 4
 },
 "nbformat": 4,
 "nbformat_minor": 2
}
